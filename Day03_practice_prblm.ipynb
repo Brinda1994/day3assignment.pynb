{
  "nbformat": 4,
  "nbformat_minor": 0,
  "metadata": {
    "colab": {
      "provenance": [],
      "authorship_tag": "ABX9TyPynf3zPWcQU+PXh4c+Kb8w",
      "include_colab_link": true
    },
    "kernelspec": {
      "name": "python3",
      "display_name": "Python 3"
    },
    "language_info": {
      "name": "python"
    }
  },
  "cells": [
    {
      "cell_type": "markdown",
      "metadata": {
        "id": "view-in-github",
        "colab_type": "text"
      },
      "source": [
        "<a href=\"https://colab.research.google.com/github/Brinda1994/day3assignment.pynb/blob/main/Day03_practice_prblm.ipynb\" target=\"_parent\"><img src=\"https://colab.research.google.com/assets/colab-badge.svg\" alt=\"Open In Colab\"/></a>"
      ]
    },
    {
      "cell_type": "code",
      "source": [
        " #1. Given the participants' score sheet for your University Sports Day, you are required to find the runner-upscore.you are given scores.store them in a list and find the score ofthe runner-up. (Create an array of scores and print the runner up score)\n",
        "if __name__ == '__main__':\n",
        "   n = int(input())\n",
        "   arr = map(int, input(\"Enter the score :\").split(','))\n",
        "   arr2 = sorted(arr, reverse=True)\n",
        "   for i,x in enumerate(arr2):\n",
        "        if max(arr2)==arr2[i]:\n",
        "            pass\n",
        "        else:\n",
        "            print(f\"{x} is Runnerup\" )\n",
        "            break"
      ],
      "metadata": {
        "colab": {
          "base_uri": "https://localhost:8080/"
        },
        "id": "QxK9NoZLEGBZ",
        "outputId": "276081d1-8068-499f-bd07-580933109451"
      },
      "execution_count": null,
      "outputs": [
        {
          "output_type": "stream",
          "name": "stdout",
          "text": [
            "6\n",
            "Enter the score :3,4,5,8,3,9\n",
            "8 is Runnerup\n"
          ]
        }
      ]
    },
    {
      "cell_type": "code",
      "source": [
        "#2. A dictionary is given D={‘John’ [25,32,43],’Peter’:[87,55,96],’Ram’:[58,55,43],’Meena’:[63,79,85]}Get a name from user if the name in the dictionary change the values corresponding to that user to [88,77,99] and print the dictionary. Else print ‘Name not found’.\n",
        "D={'john':[25,32,43],'peter':[87,55,96],'ram':[58,55,43],'meena':[63,79,85]}\n",
        "name = input(\"Enter a name: \")\n",
        "\n",
        "if name in D:\n",
        "    D[name] = [88, 77, 99]\n",
        "    print(D)\n",
        "else:\n",
        "    print(\"Name not found\")"
      ],
      "metadata": {
        "colab": {
          "base_uri": "https://localhost:8080/"
        },
        "id": "Qc2G8lmrsYym",
        "outputId": "a4e66927-026f-4186-86e6-8e0e1dfd545b"
      },
      "execution_count": null,
      "outputs": [
        {
          "output_type": "stream",
          "name": "stdout",
          "text": [
            "Enter a name: meena\n",
            "{'john': [25, 32, 43], 'peter': [87, 55, 96], 'ram': [58, 55, 43], 'meena': [88, 77, 99]}\n"
          ]
        }
      ]
    },
    {
      "cell_type": "code",
      "source": [
        "#3. Ticket Price Calculator:\n",
        "    I. Ask the user to enter their age.\n",
        "    II. Use control statements (if-elif-else) to calculate the ticket price based on the\n",
        "        following conditions:\n",
        "         a. If the age is below 5, the ticket price is free.\n",
        "         b. If the age is between 5 and 12 (inclusive), the ticket price is Rs.10.\n",
        "         c. If the age is above 12, the ticket price is Rs.50.\n",
        "         d. If the age is above 60, the ticket price is free.\n",
        "         e. If the gender is female, the ticket price is 50% of the applicable rates.\n",
        "   III. Display the ticket price to the user.\n",
        "\n",
        "\n",
        "\n",
        "age = int(input(\"Enter your age: \"))\n",
        "gender = input(\"Enter your gender (male/female): \").lower()\n",
        "ticket_price = 0\n",
        "\n",
        "# Check if the gender is female\n",
        "if gender == 'female':\n",
        "    if age < 5:\n",
        "        ticket_price = 0\n",
        "    elif age >= 5 and age <= 12:\n",
        "        ticket_price = 5\n",
        "    elif age > 12 and age <= 60:\n",
        "        ticket_price = 25\n",
        "    elif age > 60:\n",
        "        ticket_price = 0\n",
        "else:\n",
        "\n",
        "    if age < 5:\n",
        "        ticket_price = 0\n",
        "    elif age >= 5 and age <= 12:\n",
        "        ticket_price = 10\n",
        "    elif age > 12 and age <= 60:\n",
        "        ticket_price = 50\n",
        "    elif age > 60:\n",
        "        ticket_price = 0\n",
        "\n",
        "# Display the ticket price to the user\n",
        "print(\"Ticket price:\", ticket_price)"
      ],
      "metadata": {
        "colab": {
          "base_uri": "https://localhost:8080/"
        },
        "id": "2R9a4-SZ0bOq",
        "outputId": "98523422-cc42-44c4-ad6c-2c3e57469bf1"
      },
      "execution_count": null,
      "outputs": [
        {
          "output_type": "stream",
          "name": "stdout",
          "text": [
            "Enter your age: 50\n",
            "Enter your gender (male/female): female\n",
            "Ticket price: 25\n"
          ]
        }
      ]
    }
  ]
}